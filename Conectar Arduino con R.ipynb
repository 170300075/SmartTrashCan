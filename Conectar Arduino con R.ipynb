{
 "cells": [
  {
   "cell_type": "markdown",
   "metadata": {},
   "source": [
    "### Instalar arduinor\n",
    "La siguiente libreria permite establecer la comunicacion con el Arduino a traves del puerto serie. Enlace a github: https://github.com/r-arduino/arduinor"
   ]
  },
  {
   "cell_type": "raw",
   "metadata": {},
   "source": [
    "devtools::install_github(\"r-arduino/arduinor\")"
   ]
  },
  {
   "cell_type": "markdown",
   "metadata": {},
   "source": [
    "Para importar ArduinoR se usa"
   ]
  },
  {
   "cell_type": "code",
   "execution_count": null,
   "metadata": {},
   "outputs": [],
   "source": [
    "library(arduinor)"
   ]
  },
  {
   "cell_type": "code",
   "execution_count": 19,
   "metadata": {},
   "outputs": [
    {
     "name": "stderr",
     "output_type": "stream",
     "text": [
      "Installing package into ‘/usr/local/lib/R/site-library’\n",
      "(as ‘lib’ is unspecified)\n",
      "\n",
      "also installing the dependencies ‘fresh’, ‘waiter’\n",
      "\n",
      "\n"
     ]
    }
   ],
   "source": [
    "install.packages(\"shinydashboardPlus\")"
   ]
  },
  {
   "cell_type": "code",
   "execution_count": 3,
   "metadata": {
    "scrolled": true
   },
   "outputs": [
    {
     "name": "stderr",
     "output_type": "stream",
     "text": [
      "\n",
      "Attaching package: ‘shinydashboard’\n",
      "\n",
      "\n",
      "The following object is masked from ‘package:graphics’:\n",
      "\n",
      "    box\n",
      "\n",
      "\n"
     ]
    }
   ],
   "source": [
    "library(shiny)\n",
    "library(shinydashboard)\n",
    "library(shinyWidgets)\n",
    "\n",
    "useWidgets"
   ]
  },
  {
   "cell_type": "markdown",
   "metadata": {},
   "source": [
    "## Creamos nuestra aplicacion shiny"
   ]
  },
  {
   "cell_type": "code",
   "execution_count": 20,
   "metadata": {},
   "outputs": [],
   "source": [
    "ui <- dashboardPage(\n",
    "\n",
    "    # ====== Header ======\n",
    "    dashboardHeader(\n",
    "        title = \"Smart Trash Can\"\n",
    "    ),\n",
    "    \n",
    "    # ====== Sidebar ======\n",
    "    dashboardSidebar(\n",
    "        sidebarMenu(\n",
    "            menuItem(\n",
    "                \"Dashboard\",\n",
    "                tabName = \"dashboard\",\n",
    "                icon = icon(\"dashboard\")\n",
    "            ),\n",
    "            \n",
    "            menuItem(\n",
    "                \"Tabulate\",\n",
    "                tabName = \"tabulate\",\n",
    "                icon = icon(\"table\")\n",
    "            )\n",
    "        )\n",
    "    ),\n",
    "    \n",
    "    # ====== Body ======\n",
    "    dashboardBody(\n",
    "        tabItems(\n",
    "            \n",
    "            # First tab content\n",
    "            tabItem(\n",
    "                tabName = \"dashboard\"\n",
    "            ),\n",
    "            \n",
    "            # Second tab content\n",
    "            tabItem(\n",
    "                tabName = \"tabulate\"\n",
    "            )\n",
    "            \n",
    "        )\n",
    "    )\n",
    ")"
   ]
  },
  {
   "cell_type": "code",
   "execution_count": 21,
   "metadata": {},
   "outputs": [],
   "source": [
    "server <- function(input, output, session){\n",
    "    \n",
    "}"
   ]
  },
  {
   "cell_type": "code",
   "execution_count": 22,
   "metadata": {},
   "outputs": [
    {
     "name": "stderr",
     "output_type": "stream",
     "text": [
      "\n",
      "Listening on http://127.0.0.1:8082\n",
      "\n"
     ]
    }
   ],
   "source": [
    "options(shiny.port = 8082)\n",
    "options(shiny.host = \"127.0.0.1\")\n",
    "shinyApp(ui, server)"
   ]
  }
 ],
 "metadata": {
  "kernelspec": {
   "display_name": "R",
   "language": "R",
   "name": "ir"
  },
  "language_info": {
   "codemirror_mode": "r",
   "file_extension": ".r",
   "mimetype": "text/x-r-source",
   "name": "R",
   "pygments_lexer": "r",
   "version": "3.6.3"
  }
 },
 "nbformat": 4,
 "nbformat_minor": 4
}
