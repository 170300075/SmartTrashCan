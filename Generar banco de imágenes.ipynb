{
 "cells": [
  {
   "cell_type": "markdown",
   "metadata": {},
   "source": [
    "## Instalar la libreria de Google Images\n",
    "**Nota**: Para poder descargar imágenes con este codigo es necesaio instalar la siguiente biblioteca directo desde su repositorio actualizado:\n",
    "\n",
    "Por favor, ejecutar:"
   ]
  },
  {
   "cell_type": "code",
   "execution_count": null,
   "metadata": {},
   "outputs": [],
   "source": [
    "!pip install git+https://github.com/Joeclinton1/google-images-download.git"
   ]
  },
  {
   "cell_type": "markdown",
   "metadata": {},
   "source": [
    "---\n",
    "\n",
    "## Intrucciones:\n",
    "Para descargar las imágenes es necesario ejecutar el siguiente chunk. Se te pedirá como entrada la imagen que deseas consultar. Por ejemplo, si requieres descargar imágenes relacionadas con una refresco solo escribe `refresco`. Se te pedirá introducir una cantidad deseada de imágenes, supongamos que quieres 10, por lo tanto debes escribir `10` en el segundo campo. Si deseas descargar multiples imágenes a la vez en una misma consulta puedes hacerlo separando cada objeto de tu interes por una coma, supongamos que quieres buscar refresco y tacos, la consulta quedaría así: `refresco,tacos`. La cantidad de imágenes a descargar solo es necesario colocarla una vez, el código descargará la misma cantidad de imágenes para cada objeto de interes. \n",
    "\n",
    "**Nota:** Las imágenes que se descarguen se guardaran en el directorio actual dentro de la carpeta `downloads/<tu-consulta>/`. Por ejemplo, `downloads/refresco/`"
   ]
  },
  {
   "cell_type": "markdown",
   "metadata": {},
   "source": [
    "El código para descargar las imagenes con Google es este"
   ]
  },
  {
   "cell_type": "code",
   "execution_count": 1,
   "metadata": {
    "tags": []
   },
   "outputs": [
    {
     "name": "stdin",
     "output_type": "stream",
     "text": [
      "¿Qué imagen deseas descargar?:  cascaras de fruta,cascaras de verdura,restos de comida,cascarones de huevo,restos de pan,restos de tortillas,filtros de café,filtros de té,lácteos,huesos,desperdicios de pescado,restos de carne,cáscaras de frutos secos\n",
      "¿Cuántas imágenes?:  10\n"
     ]
    },
    {
     "name": "stdout",
     "output_type": "stream",
     "text": [
      "\n",
      "Item no.: 1 --> Item name = cascaras de fruta\n",
      "Evaluating...\n",
      "Starting Download...\n",
      "Completed Image ====> 1.04418-utilizar-cascaras-frutas_l-600x394.jpg\n",
      "Completed Image ====> 2.5e99789ebf7d9.jpeg\n",
      "Completed Image ====> 3.cascaras.jpg\n",
      "Completed Image ====> 4.los-milagros-de-las-cascaras-de-frutas-70363.jpg\n",
      "Completed Image ====> 5.posts-frutas-con-piel.jpg\n",
      "Completed Image ====> 6.cascaras-de-frutas-para-adelgazar.jpg\n",
      "Completed Image ====> 7.apple-slideshow.jpg\n",
      "Completed Image ====> 8.cascara.jpg\n",
      "Completed Image ====> 9.5e996501a83b0.jpeg\n",
      "Completed Image ====> 10.5a3824e8a8d5b0fc058b4583-1280x620.jpeg\n",
      "\n",
      "Errors: 0\n",
      "\n",
      "\n",
      "Item no.: 2 --> Item name = cascaras de verdura\n",
      "Evaluating...\n",
      "Starting Download...\n",
      "Completed Image ====> 1.cascaras.jpg\n",
      "Completed Image ====> 2.04418-utilizar-cascaras-frutas_l-600x394.jpg\n",
      "URLError on an image...trying next one... Error: HTTP Error 403: Forbidden\n",
      "Completed Image ====> 3.no-tires-las-cascaras-fruta-verduras-banner.jpg\n",
      "Completed Image ====> 4.c%c3%a1scaras.jpg\n",
      "Completed Image ====> 5.ldl_6854_reciclar_basura_organica-750x400.jpg\n",
      "Completed Image ====> 6.cascaras-de-frutas-y-verduras-en-la-mesa-ktc04n.jpg\n",
      "Completed Image ====> 7.c%c3%a1scaras-del-pepino-en-la-tabla-de-madera-verdura-68041921.jpg\n",
      "Completed Image ====> 8.abono-internet.jpg\n",
      "Completed Image ====> 9.close-up-de-cascaras-de-frutas-y-verduras-frescas-en-la-placa-blanca-m4ma7e.jpg\n",
      "Completed Image ====> 10.70690348-jard%c3%adn-mont%c3%b3n-de-compost-con-los-residuos-de-alimentos-de-la-cocina-las-verduras-c%c3%a1scaras-de-fruta-y-basura.jpg\n",
      "\n",
      "Errors: 1\n",
      "\n",
      "\n",
      "Item no.: 3 --> Item name = restos de comida\n",
      "Evaluating...\n",
      "Starting Download...\n",
      "Completed Image ====> 1.pieles-de-fruta-basura.jpg\n",
      "Completed Image ====> 2.foodscrapsto.jpg\n",
      "Completed Image ====> 3._90016177_comida_thinkstockphotos10.jpg\n",
      "Completed Image ====> 4.ebd015774713d4c3bf27bf4aba401188.png\n",
      "Completed Image ====> 5.2439962.jpg\n",
      "Completed Image ====> 6.disposicion-restos-comida-basura-desperdiciados_23-2148764789.jpg\n",
      "Completed Image ====> 7.restos-de-comida-istock.jpg\n",
      "Completed Image ====> 8.owklb6aeivdldetfen5rliuwte.jpg\n",
      "Completed Image ====> 9.portada-botar-comida.jpg\n",
      "Completed Image ====> 10.food-not-to-waste-900x754.jpg\n",
      "\n",
      "Errors: 0\n",
      "\n",
      "\n",
      "Item no.: 4 --> Item name = cascarones de huevo\n",
      "Evaluating...\n",
      "Starting Download...\n",
      "Completed Image ====> 1.2-cient%c3%adficos-de-la-unam-logran-producir-cascarones-de-huevo-m%c3%a1s-resistentes.jpg\n",
      "Completed Image ====> 2.cascarones-huevo-1.jpg\n",
      "Completed Image ====> 3.es-bueno-comer-cascarones-de-huevo.jpg\n",
      "Completed Image ====> 4.5947a4dbe4460ed4d4777fb8b1306804.jpg\n",
      "Completed Image ====> 5.blog-cascarones2019.jpg\n",
      "Completed Image ====> 6.d_nq_np_942232-mlm31214604112_062019-o.jpg\n",
      "Completed Image ====> 7.cascarones_de_huevo_de_pascua_2.jpg\n",
      "Completed Image ====> 8.cascarones-rellenos-de-confeti-huevos.jpg\n",
      "Completed Image ====> 9.huevosdepascua.jpg\n",
      "Completed Image ====> 10.casarones-de-huevo.jpg\n",
      "\n",
      "Errors: 0\n",
      "\n",
      "\n",
      "Item no.: 5 --> Item name = restos de pan\n",
      "Evaluating...\n",
      "Starting Download...\n",
      "Completed Image ====> 1.restos-del-pan-7017889.jpg\n",
      "Completed Image ====> 2.img_8160.jpg\n",
      "Completed Image ====> 3.elpais-migaspan14400anos-l.jpg\n",
      "Completed Image ====> 4.trozos-de-pan-y-restos-de-una-junta-de-negro-kwaad8.jpg\n",
      "Completed Image ====> 5.restos-del-pan-en-la-placa-97013059.jpg\n",
      "Completed Image ====> 6._110310863_gettyimages-1126687472.jpg\n",
      "Completed Image ====> 7.tvn-18072018165238.jpg\n",
      "Completed Image ====> 8.trozos-de-pan-y-restos-de-una-tabla-de-cortar-de-madera-kwaad3.jpg\n",
      "Completed Image ====> 9.encuentran-en-jordania-los-restos-de-pan-mas-antiguos-del-mundo.jpg\n",
      "Completed Image ====> 10.recetas_restos_pan_duro.jpg\n",
      "\n",
      "Errors: 0\n",
      "\n",
      "\n",
      "Item no.: 6 --> Item name = restos de tortillas\n",
      "Evaluating...\n",
      "Starting Download...\n",
      "Completed Image ====> 1.tortilla.jpg\n",
      "Completed Image ====> 2.195113-87003.jpg\n",
      "Completed Image ====> 3.tortillas.jpg\n",
      "Completed Image ====> 4.tortillas-5247110_1920.jpg_346753400.jpg\n",
      "Completed Image ====> 5.como-hacer-tortillas-con-las-sobras-2.jpg\n",
      "Completed Image ====> 6.historia-de-la-tortilla-de-mai%cc%81z-.jpg\n",
      "Completed Image ====> 7.tortillas-e1454452361310.jpg\n",
      "Completed Image ====> 8.tortilla-con-restos-de-comida2.jpg\n",
      "URLError on an image...trying next one... Error: HTTP Error 404: Not Found\n",
      "Completed Image ====> 9.como-hacer-tortillas-con-las-sobras-8.jpg\n",
      "Completed Image ====> 10.tortilla_francesa_con_restos1.jpg\n",
      "\n",
      "Errors: 1\n",
      "\n"
     ]
    },
    {
     "ename": "UnicodeDecodeError",
     "evalue": "'utf-8' codec can't decode byte 0xe9 in position 43: unexpected end of data",
     "output_type": "error",
     "traceback": [
      "\u001b[0;31m---------------------------------------------------------------------------\u001b[0m",
      "\u001b[0;31mUnicodeDecodeError\u001b[0m                        Traceback (most recent call last)",
      "\u001b[0;32m<ipython-input-1-830fef092b2b>\u001b[0m in \u001b[0;36m<module>\u001b[0;34m\u001b[0m\n\u001b[1;32m     10\u001b[0m arguments = {\"keywords\":busqueda,\n\u001b[1;32m     11\u001b[0m              \"limit\":cantidad,\"print_urls\":False}\n\u001b[0;32m---> 12\u001b[0;31m \u001b[0mpaths\u001b[0m \u001b[0;34m=\u001b[0m \u001b[0mresponse\u001b[0m\u001b[0;34m.\u001b[0m\u001b[0mdownload\u001b[0m\u001b[0;34m(\u001b[0m\u001b[0marguments\u001b[0m\u001b[0;34m)\u001b[0m\u001b[0;34m\u001b[0m\u001b[0;34m\u001b[0m\u001b[0m\n\u001b[0m\u001b[1;32m     13\u001b[0m \u001b[0;34m\u001b[0m\u001b[0m\n\u001b[1;32m     14\u001b[0m \u001b[0;31m# Imprime las rutas completas de los archivos descargados\u001b[0m\u001b[0;34m\u001b[0m\u001b[0;34m\u001b[0m\u001b[0;34m\u001b[0m\u001b[0m\n",
      "\u001b[0;32m/usr/local/lib/python3.8/dist-packages/google_images_download/google_images_download.py\u001b[0m in \u001b[0;36mdownload\u001b[0;34m(self, arguments)\u001b[0m\n\u001b[1;32m    950\u001b[0m             \u001b[0;31m# if the calling file contains params directly\u001b[0m\u001b[0;34m\u001b[0m\u001b[0;34m\u001b[0m\u001b[0;34m\u001b[0m\u001b[0m\n\u001b[1;32m    951\u001b[0m             \u001b[0;32melse\u001b[0m\u001b[0;34m:\u001b[0m\u001b[0;34m\u001b[0m\u001b[0;34m\u001b[0m\u001b[0m\n\u001b[0;32m--> 952\u001b[0;31m                 \u001b[0mpaths\u001b[0m\u001b[0;34m,\u001b[0m \u001b[0merrors\u001b[0m \u001b[0;34m=\u001b[0m \u001b[0mself\u001b[0m\u001b[0;34m.\u001b[0m\u001b[0mdownload_executor\u001b[0m\u001b[0;34m(\u001b[0m\u001b[0marguments\u001b[0m\u001b[0;34m)\u001b[0m\u001b[0;34m\u001b[0m\u001b[0;34m\u001b[0m\u001b[0m\n\u001b[0m\u001b[1;32m    953\u001b[0m                 \u001b[0;32mfor\u001b[0m \u001b[0mi\u001b[0m \u001b[0;32min\u001b[0m \u001b[0mpaths\u001b[0m\u001b[0;34m:\u001b[0m\u001b[0;34m\u001b[0m\u001b[0;34m\u001b[0m\u001b[0m\n\u001b[1;32m    954\u001b[0m                     \u001b[0mpaths_agg\u001b[0m\u001b[0;34m[\u001b[0m\u001b[0mi\u001b[0m\u001b[0;34m]\u001b[0m \u001b[0;34m=\u001b[0m \u001b[0mpaths\u001b[0m\u001b[0;34m[\u001b[0m\u001b[0mi\u001b[0m\u001b[0;34m]\u001b[0m\u001b[0;34m\u001b[0m\u001b[0;34m\u001b[0m\u001b[0m\n",
      "\u001b[0;32m/usr/local/lib/python3.8/dist-packages/google_images_download/google_images_download.py\u001b[0m in \u001b[0;36mdownload_executor\u001b[0;34m(self, arguments)\u001b[0m\n\u001b[1;32m   1050\u001b[0m                     search_keyword[i]) + (sky)\n\u001b[1;32m   1051\u001b[0m                     \u001b[0;32mif\u001b[0m \u001b[0;32mnot\u001b[0m \u001b[0marguments\u001b[0m\u001b[0;34m[\u001b[0m\u001b[0;34m\"silent_mode\"\u001b[0m\u001b[0;34m]\u001b[0m\u001b[0;34m:\u001b[0m\u001b[0;34m\u001b[0m\u001b[0;34m\u001b[0m\u001b[0m\n\u001b[0;32m-> 1052\u001b[0;31m                         \u001b[0mprint\u001b[0m\u001b[0;34m(\u001b[0m\u001b[0miteration\u001b[0m\u001b[0;34m.\u001b[0m\u001b[0mencode\u001b[0m\u001b[0;34m(\u001b[0m\u001b[0;34m'raw_unicode_escape'\u001b[0m\u001b[0;34m)\u001b[0m\u001b[0;34m.\u001b[0m\u001b[0mdecode\u001b[0m\u001b[0;34m(\u001b[0m\u001b[0;34m'utf-8'\u001b[0m\u001b[0;34m)\u001b[0m\u001b[0;34m)\u001b[0m\u001b[0;34m\u001b[0m\u001b[0;34m\u001b[0m\u001b[0m\n\u001b[0m\u001b[1;32m   1053\u001b[0m                         \u001b[0mprint\u001b[0m\u001b[0;34m(\u001b[0m\u001b[0;34m\"Evaluating...\"\u001b[0m\u001b[0;34m)\u001b[0m\u001b[0;34m\u001b[0m\u001b[0;34m\u001b[0m\u001b[0m\n\u001b[1;32m   1054\u001b[0m                     \u001b[0;32melse\u001b[0m\u001b[0;34m:\u001b[0m\u001b[0;34m\u001b[0m\u001b[0;34m\u001b[0m\u001b[0m\n",
      "\u001b[0;31mUnicodeDecodeError\u001b[0m: 'utf-8' codec can't decode byte 0xe9 in position 43: unexpected end of data"
     ]
    }
   ],
   "source": [
    "# Google\n",
    "from google_images_download import google_images_download\n",
    "\n",
    "# Descargar las imagenes de Google\n",
    "response = google_images_download.googleimagesdownload()\n",
    "\n",
    "busqueda = input(\"¿Qué imagen deseas descargar?: \")\n",
    "cantidad = input(\"¿Cuántas imágenes?: \")\n",
    "\n",
    "arguments = {\"keywords\":busqueda,\n",
    "             \"limit\":cantidad,\"print_urls\":False}\n",
    "paths = response.download(arguments)\n",
    "\n",
    "# Imprime las rutas completas de los archivos descargados\n",
    "print(paths)"
   ]
  }
 ],
 "metadata": {
  "kernelspec": {
   "display_name": "Python 3",
   "language": "python",
   "name": "python3"
  },
  "language_info": {
   "codemirror_mode": {
    "name": "ipython",
    "version": 3
   },
   "file_extension": ".py",
   "mimetype": "text/x-python",
   "name": "python",
   "nbconvert_exporter": "python",
   "pygments_lexer": "ipython3",
   "version": "3.8.5"
  }
 },
 "nbformat": 4,
 "nbformat_minor": 4
}
